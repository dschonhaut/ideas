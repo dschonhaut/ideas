{
 "cells": [
  {
   "cell_type": "code",
   "execution_count": 1,
   "id": "b0f3ff0a-984a-45be-be15-bb704a065fd6",
   "metadata": {
    "execution": {
     "iopub.execute_input": "2023-02-07T22:35:35.576352Z",
     "iopub.status.busy": "2023-02-07T22:35:35.574625Z",
     "iopub.status.idle": "2023-02-07T22:35:48.419327Z",
     "shell.execute_reply": "2023-02-07T22:35:48.417176Z",
     "shell.execute_reply.started": "2023-02-07T22:35:35.576264Z"
    },
    "tags": []
   },
   "outputs": [],
   "source": [
    "import os\n",
    "import os.path as op\n",
    "import platform\n",
    "import shutil\n",
    "import sys\n",
    "from glob import glob\n",
    "from collections import OrderedDict as od\n",
    "\n",
    "import numpy as np\n",
    "import pandas as pd"
   ]
  },
  {
   "cell_type": "markdown",
   "id": "0c16b202-70d5-47ec-9799-fba8321c5c46",
   "metadata": {},
   "source": [
    "# Read Excel inputs"
   ]
  },
  {
   "cell_type": "code",
   "execution_count": 2,
   "id": "0822f234-5692-4ca8-8274-ad1341f8a920",
   "metadata": {
    "execution": {
     "iopub.execute_input": "2023-02-07T22:35:48.423776Z",
     "iopub.status.busy": "2023-02-07T22:35:48.422991Z",
     "iopub.status.idle": "2023-02-07T22:35:48.435967Z",
     "shell.execute_reply": "2023-02-07T22:35:48.434122Z",
     "shell.execute_reply.started": "2023-02-07T22:35:48.423745Z"
    },
    "tags": []
   },
   "outputs": [
    {
     "ename": "SyntaxError",
     "evalue": "invalid syntax (2416205788.py, line 1)",
     "output_type": "error",
     "traceback": [
      "\u001b[0;36m  Cell \u001b[0;32mIn[2], line 1\u001b[0;36m\u001b[0m\n\u001b[0;31m    csv_dir = \"/home/mac/dschonhaut/projects/ideas/data/metadata\" if (platform.system()=='Linux') else\u001b[0m\n\u001b[0m                                                                                                       ^\u001b[0m\n\u001b[0;31mSyntaxError\u001b[0m\u001b[0;31m:\u001b[0m invalid syntax\n"
     ]
    }
   ],
   "source": [
    "csv_dir = \"/home/mac/dschonhaut/projects/ideas/data/metadata\" if (platform.system()=='Linux') else \n",
    "source_dir = \"/mnt/coredata/Projects/IDEAS_FullAnalysis\"\n",
    "target_dir = \"/mnt/coredata/Projects/IDEAS/data\"\n",
    "\n",
    "# Load the ideas_paths ssheet.\n",
    "ideas_paths = pd.read_csv(\n",
    "    \"/Users/dschonhaut/Box/projects/ideas/data/metadata/IDEAS_paths_forDaniel_01-17-23_NM.csv\"\n",
    ")\n",
    "assert ideas_paths[\"ID\"].size == ideas_paths[\"ID\"].nunique()\n",
    "ideas_paths.set_index(\"ID\", inplace=True)\n",
    "print(\"ideas_paths: {}\".format(ideas_paths.shape))"
   ]
  },
  {
   "cell_type": "markdown",
   "id": "31e15564-e7a1-45e3-b078-d93af3b805b0",
   "metadata": {},
   "source": [
    "# Create ideas_reorg"
   ]
  },
  {
   "cell_type": "code",
   "execution_count": null,
   "id": "e9619a01-58f3-4148-8fa4-20d64320f4bc",
   "metadata": {
    "execution": {
     "iopub.status.busy": "2023-02-07T22:35:48.436688Z",
     "iopub.status.idle": "2023-02-07T22:35:48.437144Z",
     "shell.execute_reply": "2023-02-07T22:35:48.436931Z",
     "shell.execute_reply.started": "2023-02-07T22:35:48.436885Z"
    },
    "tags": []
   },
   "outputs": [],
   "source": [
    "# Create the ideas_reorg dataframe.\n",
    "ideas_reorg_cols = od([\n",
    "    # Directory organization\n",
    "    # ----------------------\n",
    "    (\"subj_dir_source\", \"string\"),        # subject dir where all recon dirs are saved\n",
    "    (\"dcm_dir_used_source\", \"string\"),    # recon dir used for processing; we do *.dcm here (always \"path_to_dcm_folder\")\n",
    "    (\"rPOP_dir_source\", \"string\"),        # dir where rPOP files are found (\"FIX_path_ALL\" if it exists, otherwise \"path_to_rPOP_outputs\")\n",
    "    (\"failed_rPOP_dir_source\", \"string\"), # dir where failed rPOP files are found; \"path_to_rPOP_outputs\" if \"FIX_path_ALL\" exists\n",
    "    (\"subj_dir_target\", \"string\"),        # proj_dir/subj; subject dir where all data will be copied\n",
    "    (\"dcm_dir_used_target\", \"string\"),    # recon dir used for processing\n",
    "    (\"raw_dir_target\", \"string\"),         # proj_dir/subj/raw\n",
    "    (\"proc_dir_target\", \"string\"),        # proj_dir/subj/proc\n",
    "    (\"realign_dir_target\", \"string\"),     # proj_dir/subj/proc/intermed/realign\n",
    "    (\"rPOP_dir_target\", \"string\"),        # proj_dir/subj/proc/intermed/rPOP\n",
    "    (\"empty_voxel_dir_target\", \"string\"), # proj_dir/subj/proc/intermed/empty_voxels\n",
    "    (\"failed_rPOP_dir_target\", \"string\"), # proj_dir/subj/proc/intermed/.rPOP_failed\n",
    "    \n",
    "    # Raw PET\n",
    "    # -------\n",
    "    (\"n_recon_dirs\", int),                # number of recon dirs\n",
    "    (\"n_recon_dcms\", int),                # number of recon'd .dcm's in raw_dir/\n",
    "    (\"n_recon_niis\", int),                # number of converted .nii's in recon_used/ (not realigned frames or their mean)\n",
    "    (\"recon_dirs\", object),               # {old_path: new_path} all recon dirs\n",
    "    (\"recon_niis\", object),               # {old_path: new_path} 1+ .nii frames obtained directly from dcm2nii conversion\n",
    "    (\"dcmHeaders\", object),               # {old_path: new_path} the DICOM header info file dcmHeaders.mat\n",
    "    \n",
    "    # Processed PET\n",
    "    # -------------\n",
    "    # Realign\n",
    "    (\"realigned_niis\", object),           # {old_path: new_path} realigned .nii frames\n",
    "    (\"rmean_nii\", object),                # {old_path: new_path} mean PET across realigned .nii frames\n",
    "    (\"rp_rframes\", object),               # {old_path: new_path} linear transform for PET frame realignment\n",
    "    \n",
    "    # rPOP\n",
    "    (\"rrmean_nii\", object),               # {old_path: new_path} recentered, mean PET\n",
    "    (\"wrrmean_nii\", object),              # {old_path: new_path} warped, recentered, mean PET\n",
    "    (\"sn_rrmean\", object),                # {old_path: new_path} non-linear transform from native to template space\n",
    "    (\"swrrmean_nii\", object),             # {old_path: new_path} smoothed, warped, recentered, mean PET\n",
    "    (\"automask_res\", object),             # {old_path: new_path} estimated native resolution of the wrrmean PET\n",
    "    \n",
    "    # Empty voxel estimation\n",
    "    (\"empty_voxel_mask\", \"string\"),       # .nii file with 1's where the value < empty_voxel_thresh and 0's otherwise\n",
    "    (\"empty_voxel_thresh\", \"string\"),     # .txt file with the empty voxel threshold, defined as mean + 2SD for values in the halo ROI\n",
    "    \n",
    "    # Final SUVR\n",
    "    (\"suvr-wcbl_swrrmean_nii\", \"string\"), # .nii file to the SUVR image (processed normally, w/o removing empty voxels)\n",
    "    \n",
    "    # Failed rPOP\n",
    "    (\"first_rPOP_failed\", bool),          # True if auto rPOP led to warping failure and PET was reprocessed with manual recentering\n",
    "    (\"failed_rrmean_nii\", object),        # {old_path: new_path} recentered, mean PET\n",
    "    (\"failed_wrrmean_nii\", object),       # {old_path: new_path} warped, recentered, mean PET\n",
    "    (\"failed_sn_rrmean\", object),         # {old_path: new_path} non-linear transform from native to template space\n",
    "    (\"failed_swrrmean_nii\", object),      # {old_path: new_path} smoothed, warped, recentered, mean PET\n",
    "    (\"failed_automask_res\", object),      # {old_path: new_path} estimated native resolution of the wrrmean PET\n",
    "])\n",
    "ideas_reorg = pd.DataFrame({c: pd.Series(dtype=t) for c, t in ideas_reorg_cols.items()}, index=ideas_paths.index)\n",
    "print(f\"ideas_reorg: {ideas_reorg.shape}\")"
   ]
  },
  {
   "cell_type": "markdown",
   "id": "ea5ad013-407c-4323-b35f-443055bc9480",
   "metadata": {},
   "source": [
    "## Directory organization"
   ]
  },
  {
   "cell_type": "code",
   "execution_count": 163,
   "id": "cdb15b86-1d32-4a0d-b403-53ca22e7bb22",
   "metadata": {
    "execution": {
     "iopub.execute_input": "2023-02-04T23:21:53.212091Z",
     "iopub.status.busy": "2023-02-04T23:21:53.211359Z",
     "iopub.status.idle": "2023-02-04T23:22:20.086450Z",
     "shell.execute_reply": "2023-02-04T23:22:20.085117Z",
     "shell.execute_reply.started": "2023-02-04T23:21:53.212038Z"
    },
    "tags": []
   },
   "outputs": [
    {
     "name": "stdout",
     "output_type": "stream",
     "text": [
      "'recon_dirs': 0/10700 NA values\n",
      "'n_recon_dirs': 0/10700 NA values\n"
     ]
    }
   ],
   "source": [
    "def _get_subj_dir_source(dcm_dir_used_source, subj):\n",
    "    sdcm_dir_used_source = dcm_dir_used_source.split(os.sep)\n",
    "    subj_idx = sdcm_dir_used_source.index(str(subj))\n",
    "    return os.sep.join(sdcm_dir_used_source[: subj_idx + 1])\n",
    "\n",
    "\n",
    "def _get_rPOP_dir_source(fix_path_all, path_to_rpop_outputs):\n",
    "    if pd.isna(fix_path_all):\n",
    "        return op.dirname(op.normpath(path_to_rpop_outputs))\n",
    "    return op.dirname(op.normpath(fix_path_all))\n",
    "\n",
    "\n",
    "def _get_failed_rPOP_dir_source(fix_path_all, path_to_rpop_outputs):\n",
    "    if pd.isna(fix_path_all):\n",
    "        return np.nan\n",
    "    return op.dirname(op.normpath(path_to_rpop_outputs))\n",
    "\n",
    "\n",
    "def _get_dcm_dir_used_target(row):\n",
    "    return row[\"dcm_dir_used_source\"].replace(row[\"subj_dir_source\"], row[\"raw_dir_target\"])\n",
    "\n",
    "\n",
    "def _get_failed_rPOP_dir_target(first_rPOP_failed, subj_dir_target):\n",
    "    if first_rPOP_failed:\n",
    "        return op.join(subj_dir_target, \"proc\", \"intermed\", \".rPOP_failed\")\n",
    "    return np.nan\n",
    "    \n",
    "\n",
    "def _get_recon_dirs(subj_dir_source, raw_dir_target):\n",
    "    recon_dirs_source = sorted([path for path in glob(op.join(subj_dir_source, \"*\")) if op.isdir(path)])\n",
    "    recon_dirs_target = [path.replace(subj_dir_source, raw_dir_target) for path in recon_dirs_source]\n",
    "    return od(zip(recon_dirs_source, recon_dirs_target))\n",
    "\n",
    "\n",
    "ideas_reorg[\"dcm_dir_used_source\"] = ideas_paths[\"path_to_dcm_folder\"].apply(op.normpath)\n",
    "ideas_reorg[\"subj_dir_source\"] = ideas_reorg.apply(lambda x: _get_subj_dir_source(x[\"dcm_dir_used_source\"], x.name), axis=1)\n",
    "ideas_reorg[\"rPOP_dir_source\"] = ideas_paths.apply(lambda x: _get_rPOP_dir_source(x[\"FIX_path_ALL\"], x[\"path_to_rPOP_outputs\"]), axis=1)\n",
    "ideas_reorg[\"failed_rPOP_dir_source\"] = ideas_paths.apply(lambda x: _get_failed_rPOP_dir_source(x[\"FIX_path_ALL\"], x[\"path_to_rPOP_outputs\"]), axis=1)\n",
    "ideas_reorg[\"subj_dir_target\"] = [op.join(proj_dir, str(subj)) for subj in ideas_paths.index]\n",
    "ideas_reorg[\"raw_dir_target\"] = ideas_reorg[\"subj_dir_target\"].apply(lambda x: op.join(x, \"raw\"))\n",
    "ideas_reorg[\"dcm_dir_used_target\"] = ideas_reorg.apply(lambda x: _get_dcm_dir_used_target(x), axis=1)\n",
    "ideas_reorg[\"proc_dir_target\"] = ideas_reorg[\"subj_dir_target\"].apply(lambda x: op.join(x, \"proc\"))\n",
    "ideas_reorg[\"realign_dir_target\"] = ideas_reorg[\"subj_dir_target\"].apply(lambda x: op.join(x, \"proc\", \"intermed\", \"realign\"))\n",
    "ideas_reorg[\"rPOP_dir_target\"] = ideas_reorg[\"subj_dir_target\"].apply(lambda x: op.join(x, \"proc\", \"intermed\", \"rPOP\"))\n",
    "ideas_reorg[\"empty_voxel_dir_target\"] = ideas_reorg[\"subj_dir_target\"].apply(lambda x: op.join(x, \"proc\", \"intermed\", \"empty_voxels\"))\n",
    "ideas_reorg[\"first_rPOP_failed\"] = ideas_paths[\"FIX_path_ALL\"].apply(lambda x: not pd.isna(x))\n",
    "ideas_reorg[\"failed_rPOP_dir_target\"] = ideas_reorg.apply(lambda x: _get_failed_rPOP_dir_target(x[\"first_rPOP_failed\"], x[\"subj_dir_target\"]), axis=1)\n",
    "ideas_reorg[\"recon_dirs\"] = ideas_reorg.apply(lambda x: _get_recon_dirs(x[\"subj_dir_source\"], x[\"raw_dir_target\"]), axis=1)\n",
    "ideas_reorg[\"n_recon_dirs\"] = ideas_reorg[\"recon_dirs\"].apply(lambda x: len(x) if not pd.isna(x) else np.nan)\n",
    "\n",
    "print(\"'recon_dirs': {}/{} NA values\".format(pd.isna(ideas_reorg[\"recon_dirs\"]).sum(), len(ideas_reorg)))\n",
    "print(\"'n_recon_dirs': {}/{} NA values\".format(pd.isna(ideas_reorg[\"n_recon_dirs\"]).sum(), len(ideas_reorg)))"
   ]
  },
  {
   "cell_type": "code",
   "execution_count": null,
   "id": "5fa1f7a3-5a24-4641-b373-ce1264618809",
   "metadata": {},
   "outputs": [],
   "source": [
    "# Create new database structure and copy raw recon folders in.\n",
    "overwrite = False\n",
    "# ------------------------------------\n",
    "\n",
    "count = 0\n",
    "for subj, row in ideas_reorg.iterrows():\n",
    "    for oldpath, newpath in row[\"recon_dirs\"].items():\n",
    "        if np.all((op.isdir(oldpath), np.any((overwrite, not op.exists(newpath))))):\n",
    "            shutil.copytree(src=oldpath, dst=newpath)\n",
    "    recon_link = op.join(row[\"raw_dir_target\"], \"recon_used\")\n",
    "    if overwrite or not op.exists(recon_link):\n",
    "        if op.islink(recon_link):\n",
    "            os.unlink(recon_link)\n",
    "    os.symlink(row[\"dcm_dir_used_target\"], recon_link)\n",
    "    count += 1\n",
    "\n",
    "print(count, subj)"
   ]
  },
  {
   "cell_type": "markdown",
   "id": "68f714ad-2019-4673-893f-c8b47e4ddbb7",
   "metadata": {},
   "source": [
    "## Raw PET"
   ]
  },
  {
   "cell_type": "code",
   "execution_count": 164,
   "id": "2a6eabe2-1665-4b5e-b629-eb4c291781a3",
   "metadata": {
    "execution": {
     "iopub.execute_input": "2023-02-04T23:22:41.735952Z",
     "iopub.status.busy": "2023-02-04T23:22:41.735231Z",
     "iopub.status.idle": "2023-02-04T23:26:12.960561Z",
     "shell.execute_reply": "2023-02-04T23:26:12.957879Z",
     "shell.execute_reply.started": "2023-02-04T23:22:41.735889Z"
    },
    "tags": []
   },
   "outputs": [
    {
     "name": "stdout",
     "output_type": "stream",
     "text": [
      "'n_recon_dcms': 0/10700 NA values\n",
      "'dcmHeaders': 7/10700 NA values\n",
      "'recon_niis': 0/10700 NA values\n",
      "'n_recon_niis': 0/10700 NA values\n"
     ]
    }
   ],
   "source": [
    "def _get_n_recon_dcms(raw_dir_target):\n",
    "    if pd.isna(raw_dir_target) or not op.isdir(raw_dir_target):\n",
    "        return np.nan\n",
    "    recon_used = op.join(raw_dir_target, \"recon_used\")\n",
    "    if not op.islink(recon_used):\n",
    "        return np.nan\n",
    "    dcm_files = glob(op.join(recon_used, \"*.dcm\"))\n",
    "    return len(dcm_files)\n",
    "\n",
    "\n",
    "def _get_dcmHeaders(raw_dir_target, subj):\n",
    "    if pd.isna(raw_dir_target) or not op.isdir(raw_dir_target):\n",
    "        return np.nan\n",
    "    recon_used = op.join(raw_dir_target, \"recon_used\")\n",
    "    if not op.islink(recon_used):\n",
    "        return np.nan\n",
    "    dcm_hdr_source = op.join(recon_used, \"dcmHeaders.mat\")\n",
    "    dcm_hdr_target = op.join(recon_used, \"dcmHeaders_{}.mat\".format(subj))\n",
    "    if not op.isfile(dcm_hdr_source):\n",
    "        return np.nan\n",
    "    return od({dcm_hdr_source: dcm_hdr_target})\n",
    "\n",
    "    \n",
    "def _get_recon_niis(raw_dir_target, subj):\n",
    "    if pd.isna(raw_dir_target) or not op.isdir(raw_dir_target):\n",
    "        return np.nan\n",
    "    recon_used = op.join(raw_dir_target, \"recon_used\")\n",
    "    if not op.islink(recon_used):\n",
    "        return np.nan\n",
    "    recon_niis_source = sorted(glob(op.join(recon_used, \"*.nii\")))\n",
    "    recon_niis_source = [\n",
    "        f for f in recon_niis_source\n",
    "        if not np.any((op.basename(f).startswith(\"r\"),\n",
    "                       op.basename(f).endswith(\"Averaged.nii\")))\n",
    "    ]\n",
    "    if len(recon_niis_source) == 0:\n",
    "        return np.nan\n",
    "    recon_niis_target = []\n",
    "    for iFrame in range(1, len(recon_niis_source)+1):\n",
    "        recon_niis_target.append(op.join(recon_used, \"frame{:>03}_{}.nii\".format(iFrame, subj)))\n",
    "    return od(zip(recon_niis_source, recon_niis_target))\n",
    "\n",
    "\n",
    "ideas_reorg[\"n_recon_dcms\"] = ideas_reorg[\"raw_dir_target\"].apply(_get_n_recon_dcms)\n",
    "ideas_reorg[\"dcmHeaders\"] = ideas_reorg.apply(lambda x: _get_dcmHeaders(x[\"raw_dir_target\"], x.name), axis=1)\n",
    "ideas_reorg[\"recon_niis\"] = ideas_reorg.apply(lambda x: _get_recon_niis(x[\"raw_dir_target\"], x.name), axis=1)\n",
    "ideas_reorg[\"n_recon_niis\"] = ideas_reorg[\"recon_niis\"].apply(lambda x: len(x) if not pd.isna(x) else np.nan)\n",
    "\n",
    "\n",
    "print(\"'n_recon_dcms': {}/{} NA values\".format(pd.isna(ideas_reorg[\"n_recon_dcms\"]).sum(), len(ideas_reorg)))\n",
    "print(\"'dcmHeaders': {}/{} NA values\".format(pd.isna(ideas_reorg[\"dcmHeaders\"]).sum(), len(ideas_reorg)))\n",
    "print(\"'recon_niis': {}/{} NA values\".format(pd.isna(ideas_reorg[\"recon_niis\"]).sum(), len(ideas_reorg)))\n",
    "print(\"'n_recon_niis': {}/{} NA values\".format(pd.isna(ideas_reorg[\"n_recon_niis\"]).sum(), len(ideas_reorg)))"
   ]
  },
  {
   "cell_type": "code",
   "execution_count": 165,
   "id": "c42cdd24-315b-492c-bcaf-3c0377646b0a",
   "metadata": {
    "execution": {
     "iopub.execute_input": "2023-02-04T23:30:56.698415Z",
     "iopub.status.busy": "2023-02-04T23:30:56.697911Z",
     "iopub.status.idle": "2023-02-04T23:30:56.728910Z",
     "shell.execute_reply": "2023-02-04T23:30:56.727430Z",
     "shell.execute_reply.started": "2023-02-04T23:30:56.698378Z"
    }
   },
   "outputs": [
    {
     "data": {
      "text/plain": [
       "[50651, 51445, 54136, 55545, 56959, 60746, 64150]"
      ]
     },
     "execution_count": 165,
     "metadata": {},
     "output_type": "execute_result"
    }
   ],
   "source": [
    "ideas_reorg.loc[pd.isna(ideas_reorg[\"dcmHeaders\"])].index.tolist()"
   ]
  },
  {
   "cell_type": "code",
   "execution_count": 161,
   "id": "7ea2d1a0-fa8e-46c7-a04f-337cba0b90f7",
   "metadata": {
    "execution": {
     "iopub.execute_input": "2023-02-04T23:10:19.141522Z",
     "iopub.status.busy": "2023-02-04T23:10:19.140350Z",
     "iopub.status.idle": "2023-02-04T23:13:51.794269Z",
     "shell.execute_reply": "2023-02-04T23:13:51.793270Z",
     "shell.execute_reply.started": "2023-02-04T23:10:19.141478Z"
    },
    "tags": []
   },
   "outputs": [
    {
     "name": "stdout",
     "output_type": "stream",
     "text": [
      "10700 64681\n"
     ]
    }
   ],
   "source": [
    "# Rename raw .nii frames.\n",
    "overwrite = False\n",
    "# ------------------------------------\n",
    "\n",
    "count = 0\n",
    "for subj, row in ideas_reorg.iterrows():\n",
    "    if not pd.isna(row[\"recon_niis\"]):\n",
    "        for oldpath, newpath in row[\"recon_niis\"].items():\n",
    "            if np.all((op.isfile(oldpath), np.any((overwrite, not op.exists(newpath))))):\n",
    "                os.makedirs(op.dirname(newpath), exist_ok=True)\n",
    "                os.rename(oldpath, newpath)\n",
    "    count += 1\n",
    "\n",
    "print(count, subj)"
   ]
  },
  {
   "cell_type": "markdown",
   "id": "83949d27-8cbf-4e60-8428-fbd51f730bd7",
   "metadata": {},
   "source": [
    "## Realign"
   ]
  },
  {
   "cell_type": "code",
   "execution_count": 168,
   "id": "a0ee87ff-7361-439c-a5bd-34f858cd50d4",
   "metadata": {
    "execution": {
     "iopub.execute_input": "2023-02-04T23:34:49.069474Z",
     "iopub.status.busy": "2023-02-04T23:34:49.069060Z",
     "iopub.status.idle": "2023-02-04T23:35:25.638063Z",
     "shell.execute_reply": "2023-02-04T23:35:25.636918Z",
     "shell.execute_reply.started": "2023-02-04T23:34:49.069448Z"
    },
    "tags": []
   },
   "outputs": [
    {
     "name": "stdout",
     "output_type": "stream",
     "text": [
      "'realigned_niis': 9726/10700 NA values\n",
      "'rmean_nii': 4/10700 NA values\n",
      "'rp_rframes': 9726/10700 NA values\n"
     ]
    }
   ],
   "source": [
    "def _get_realigned_niis(raw_dir_target, realign_dir_target, subj):\n",
    "    if np.any((pd.isna(raw_dir_target), pd.isna(realign_dir_target))) or not op.isdir(raw_dir_target):\n",
    "        return np.nan\n",
    "    recon_used = op.join(raw_dir_target, \"recon_used\")\n",
    "    if not op.islink(recon_used):\n",
    "        return np.nan\n",
    "    realigned_niis_source = sorted(glob(op.join(recon_used, \"r*.nii\")))\n",
    "    if len(realigned_niis_source) == 0:\n",
    "        return np.nan\n",
    "    realigned_niis_target = []\n",
    "    for iFrame in range(1, len(realigned_niis_source)+1):\n",
    "        realigned_niis_target.append(op.join(realign_dir_target, \"rframe{:>03}_{}.nii\".format(iFrame, subj)))\n",
    "    return od(zip(realigned_niis_source, realigned_niis_target))\n",
    "    \n",
    "    \n",
    "def _get_rmean(raw_dir_target, realign_dir_target, recon_niis, subj):\n",
    "    if np.any((pd.isna(raw_dir_target), pd.isna(realign_dir_target))) or not op.isdir(raw_dir_target):\n",
    "        return np.nan\n",
    "    recon_used = op.join(raw_dir_target, \"recon_used\")\n",
    "    if not op.islink(recon_used):\n",
    "        return np.nan\n",
    "    rmean_source = glob(op.join(recon_used, \"*Averaged.nii\"))\n",
    "    rmean_target = op.join(realign_dir_target, \"rmean_{}.nii\".format(subj))\n",
    "    if (len(rmean_source) == 0) and (len(recon_niis) == 1):\n",
    "        return od({list(recon_niis.values())[0]: rmean_target})\n",
    "    elif len(rmean_source) == 1:\n",
    "        return od({rmean_source[0]: rmean_target})\n",
    "    return np.nan\n",
    "    \n",
    "\n",
    "def _get_rp_rframes(raw_dir_target, realign_dir_target, subj):\n",
    "    if np.any((pd.isna(raw_dir_target), pd.isna(realign_dir_target))) or not op.isdir(raw_dir_target):\n",
    "        return np.nan\n",
    "    recon_used = op.join(raw_dir_target, \"recon_used\")\n",
    "    if not op.islink(recon_used):\n",
    "        return np.nan\n",
    "    rp_rframes_source = glob(op.join(recon_used, \"rp*.txt\"))\n",
    "    rp_rframes_target = op.join(realign_dir_target, \"rp_rframes_{}.txt\".format(subj))\n",
    "    if len(rp_rframes_source) != 1:\n",
    "        return np.nan\n",
    "    return od({rp_rframes_source[0]: rp_rframes_target})\n",
    "    \n",
    "    \n",
    "ideas_reorg[\"realigned_niis\"] = ideas_reorg.apply(lambda x: _get_realigned_niis(x[\"raw_dir_target\"], x[\"realign_dir_target\"], x.name), axis=1)\n",
    "ideas_reorg[\"rmean_nii\"] = ideas_reorg.apply(lambda x: _get_rmean(x[\"raw_dir_target\"], x[\"realign_dir_target\"], x[\"recon_niis\"], x.name), axis=1)\n",
    "ideas_reorg[\"rp_rframes\"] = ideas_reorg.apply(lambda x: _get_rp_rframes(x[\"raw_dir_target\"], x[\"realign_dir_target\"], x.name), axis=1)\n",
    "\n",
    "\n",
    "print(\"'realigned_niis': {}/{} NA values\".format(pd.isna(ideas_reorg.loc[ideas_reorg[\"n_recon_niis\"]>1, \"realigned_niis\"]).sum(),\n",
    "                                                 len(ideas_reorg.loc[ideas_reorg[\"n_recon_niis\"]>1])))\n",
    "print(\"'rmean_nii': {}/{} NA values\".format(pd.isna(ideas_reorg[\"rmean_nii\"]).sum(), len(ideas_reorg)))\n",
    "print(\"'rp_rframes': {}/{} NA values\".format(pd.isna(ideas_reorg.loc[ideas_reorg[\"n_recon_niis\"]>1, \"rp_rframes\"]).sum(),\n",
    "                                             len(ideas_reorg.loc[ideas_reorg[\"n_recon_niis\"]>1])))"
   ]
  },
  {
   "cell_type": "code",
   "execution_count": 175,
   "id": "9b95474c-fce2-44b7-8cfa-dc786d533d48",
   "metadata": {
    "execution": {
     "iopub.execute_input": "2023-02-05T00:11:44.559859Z",
     "iopub.status.busy": "2023-02-05T00:11:44.558862Z",
     "iopub.status.idle": "2023-02-05T00:38:12.809936Z",
     "shell.execute_reply": "2023-02-05T00:38:12.807702Z",
     "shell.execute_reply.started": "2023-02-05T00:11:44.559792Z"
    },
    "tags": []
   },
   "outputs": [
    {
     "name": "stdout",
     "output_type": "stream",
     "text": [
      "64681 10700\n"
     ]
    }
   ],
   "source": [
    "# Move or copy files into the realign directory.\n",
    "overwrite = False\n",
    "# ------------------------------------\n",
    "\n",
    "count = 0\n",
    "for subj, row in ideas_reorg.iterrows():\n",
    "    if not pd.isna(row[\"realigned_niis\"]):\n",
    "        for oldpath, newpath in row[\"realigned_niis\"].items():\n",
    "            if np.all((op.isfile(oldpath), np.any((overwrite, not op.exists(newpath))))):\n",
    "                os.makedirs(op.dirname(newpath), exist_ok=True)\n",
    "                os.rename(oldpath, newpath)\n",
    "    if not pd.isna(row[\"rmean_nii\"]):\n",
    "        for oldpath, newpath in row[\"rmean_nii\"].items():\n",
    "            if np.all((op.isfile(oldpath), np.any((overwrite, not op.exists(newpath))))):\n",
    "                os.makedirs(op.dirname(newpath), exist_ok=True)\n",
    "                if op.basename(oldpath).endswith(\"Averaged.nii\"):\n",
    "                    os.rename(oldpath, newpath)\n",
    "                else:\n",
    "                    shutil.copy(oldpath, newpath)\n",
    "    if not pd.isna(row[\"rp_rframes\"]):\n",
    "        for oldpath, newpath in row[\"rp_rframes\"].items():\n",
    "            if np.all((op.isfile(oldpath), np.any((overwrite, not op.exists(newpath))))):\n",
    "                os.makedirs(op.dirname(newpath), exist_ok=True)\n",
    "                os.rename(oldpath, newpath)\n",
    "    count += 1\n",
    "\n",
    "print(subj, count)"
   ]
  },
  {
   "cell_type": "markdown",
   "id": "a0a72240-5ce8-4b4e-a961-e625629f4982",
   "metadata": {},
   "source": [
    "## rPOP"
   ]
  },
  {
   "cell_type": "code",
   "execution_count": 194,
   "id": "c939c9ec-1195-44b8-82f7-8be400a3b118",
   "metadata": {
    "execution": {
     "iopub.execute_input": "2023-02-06T21:12:53.533135Z",
     "iopub.status.busy": "2023-02-06T21:12:53.532162Z",
     "iopub.status.idle": "2023-02-06T21:21:22.248674Z",
     "shell.execute_reply": "2023-02-06T21:21:22.246507Z",
     "shell.execute_reply.started": "2023-02-06T21:12:53.533066Z"
    },
    "tags": []
   },
   "outputs": [
    {
     "name": "stdout",
     "output_type": "stream",
     "text": [
      "'rrmean_nii': 0/10700 NA values\n",
      "'wrrmean_nii': 0/10700 NA values\n",
      "'sn_rrmean': 43/10700 NA values\n",
      "'swrrmean_nii': 0/10700 NA values\n",
      "'automask_res': 43/10700 NA values\n",
      "'failed_rrmean_nii': 0/239 NA values\n",
      "'failed_wrrmean_nii': 0/239 NA values\n",
      "'failed_sn_rrmean': 91/239 NA values\n",
      "'failed_swrrmean_nii': 0/239 NA values\n",
      "'failed_automask_res': 91/239 NA values\n"
     ]
    }
   ],
   "source": [
    "def _get_rrmean(rPOP_dir_source, rPOP_dir_target, subj,\n",
    "                ideas_paths, first_rPOP_failed, return_failed=False):\n",
    "    if np.any((pd.isna(rPOP_dir_source), pd.isna(rPOP_dir_target))):\n",
    "        return np.nan\n",
    "    if first_rPOP_failed:\n",
    "        if return_failed:\n",
    "            rrmean_source = ideas_paths.loc[subj, \"path_to_nativenii\"]\n",
    "        else:\n",
    "            rrmean_source = glob(op.join(rPOP_dir_source, \"{}*.nii\".format(subj)))\n",
    "            if len(rrmean_source) == 1:\n",
    "                rrmean_source = rrmean_source[0]\n",
    "            else:\n",
    "                return np.nan\n",
    "    elif return_failed:\n",
    "        return np.nan\n",
    "    else:\n",
    "        rrmean_source = ideas_paths.loc[subj, \"path_to_nativenii\"]\n",
    "    rrmean_target = op.join(rPOP_dir_target, \"rrmean_{}.nii\".format(subj))\n",
    "    return od({rrmean_source: rrmean_target})\n",
    "    \n",
    "    \n",
    "def _get_wrrmean(rPOP_dir_source, rPOP_dir_target, subj,\n",
    "                ideas_paths, first_rPOP_failed, return_failed=False):\n",
    "    if np.any((pd.isna(rPOP_dir_source), pd.isna(rPOP_dir_target))):\n",
    "        return np.nan\n",
    "    if first_rPOP_failed:\n",
    "        if return_failed:\n",
    "            wrrmean_source = ideas_paths.loc[subj, \"path_to_warpednii\"]\n",
    "        else:\n",
    "            wrrmean_source = glob(op.join(rPOP_dir_source, \"w{}*.nii\".format(subj)))\n",
    "            if len(wrrmean_source) == 1:\n",
    "                wrrmean_source = wrrmean_source[0]\n",
    "            else:\n",
    "                return np.nan\n",
    "    elif return_failed:\n",
    "        return np.nan\n",
    "    else:\n",
    "        wrrmean_source = ideas_paths.loc[subj, \"path_to_warpednii\"]\n",
    "    wrrmean_target = op.join(rPOP_dir_target, \"wrrmean_{}.nii\".format(subj))\n",
    "    return od({wrrmean_source: wrrmean_target})\n",
    "    \n",
    "\n",
    "def _get_sn_rrmean(rPOP_dir_source, rPOP_dir_target, subj):\n",
    "    if np.any((pd.isna(rPOP_dir_source), pd.isna(rPOP_dir_target))):\n",
    "        return np.nan\n",
    "    sn_rrmean_source = glob(op.join(rPOP_dir_source, \"*{}*sn.mat\".format(subj)))\n",
    "    if len(sn_rrmean_source) != 1:\n",
    "        return np.nan\n",
    "    sn_rrmean_source = sn_rrmean_source[0]\n",
    "    sn_rrmean_target = op.join(rPOP_dir_target, \"sn_rrmean_{}.mat\".format(subj))\n",
    "    return od({sn_rrmean_source: sn_rrmean_target})\n",
    "\n",
    "\n",
    "def _get_swrrmean(rPOP_dir_source, rPOP_dir_target, subj,\n",
    "                ideas_paths, first_rPOP_failed, return_failed=False):\n",
    "    if np.any((pd.isna(rPOP_dir_source), pd.isna(rPOP_dir_target))):\n",
    "        return np.nan\n",
    "    if first_rPOP_failed:\n",
    "        if return_failed:\n",
    "            swrrmean_source = ideas_paths.loc[subj, \"path_to_smoothed_nii\"]\n",
    "        else:\n",
    "            swrrmean_source = glob(op.join(rPOP_dir_source, \"sw{}*.nii\".format(subj)))\n",
    "            if len(swrrmean_source) == 1:\n",
    "                swrrmean_source = swrrmean_source[0]\n",
    "            else:\n",
    "                return np.nan\n",
    "    elif return_failed:\n",
    "        return np.nan\n",
    "    else:\n",
    "        swrrmean_source = ideas_paths.loc[subj, \"path_to_smoothed_nii\"]\n",
    "    swrrmean_target = op.join(rPOP_dir_target, \"s10wrrmean_{}.nii\".format(subj))\n",
    "    return od({swrrmean_source: swrrmean_target})\n",
    "\n",
    "\n",
    "def _get_automask_res(rPOP_dir_source, rPOP_dir_target, subj):\n",
    "    if np.any((pd.isna(rPOP_dir_source), pd.isna(rPOP_dir_target))):\n",
    "        return np.nan\n",
    "    automask_source = glob(op.join(rPOP_dir_source, \"*{}*automask.txt\".format(subj)))\n",
    "    if len(automask_source) != 1:\n",
    "        return np.nan\n",
    "    automask_source = automask_source[0]\n",
    "    automask_target = op.join(rPOP_dir_target, \"automask-res_wrrmean_{}.txt\".format(subj))\n",
    "    return od({automask_source: automask_target})\n",
    "    \n",
    "    \n",
    "ideas_reorg[\"rrmean_nii\"] = ideas_reorg.apply(lambda x: _get_rrmean(x[\"rPOP_dir_source\"], x[\"rPOP_dir_target\"], x.name, ideas_paths, x[\"first_rPOP_failed\"], return_failed=False), axis=1)\n",
    "ideas_reorg[\"failed_rrmean_nii\"] = ideas_reorg.apply(lambda x: _get_rrmean(x[\"failed_rPOP_dir_source\"], x[\"failed_rPOP_dir_target\"], x.name, ideas_paths, x[\"first_rPOP_failed\"], return_failed=True), axis=1)\n",
    "ideas_reorg[\"wrrmean_nii\"] = ideas_reorg.apply(lambda x: _get_wrrmean(x[\"rPOP_dir_source\"], x[\"rPOP_dir_target\"], x.name, ideas_paths, x[\"first_rPOP_failed\"], return_failed=False), axis=1)\n",
    "ideas_reorg[\"failed_wrrmean_nii\"] = ideas_reorg.apply(lambda x: _get_wrrmean(x[\"failed_rPOP_dir_source\"], x[\"failed_rPOP_dir_target\"], x.name, ideas_paths, x[\"first_rPOP_failed\"], return_failed=True), axis=1)\n",
    "ideas_reorg[\"sn_rrmean\"] = ideas_reorg.apply(lambda x: _get_sn_rrmean(x[\"rPOP_dir_source\"], x[\"rPOP_dir_target\"], x.name), axis=1)\n",
    "ideas_reorg[\"failed_sn_rrmean\"] = ideas_reorg.apply(lambda x: _get_sn_rrmean(x[\"failed_rPOP_dir_source\"], x[\"failed_rPOP_dir_target\"], x.name), axis=1)\n",
    "ideas_reorg[\"swrrmean_nii\"] = ideas_reorg.apply(lambda x: _get_swrrmean(x[\"rPOP_dir_source\"], x[\"rPOP_dir_target\"], x.name, ideas_paths, x[\"first_rPOP_failed\"], return_failed=False), axis=1)\n",
    "ideas_reorg[\"failed_swrrmean_nii\"] = ideas_reorg.apply(lambda x: _get_swrrmean(x[\"failed_rPOP_dir_source\"], x[\"failed_rPOP_dir_target\"], x.name, ideas_paths, x[\"first_rPOP_failed\"], return_failed=True), axis=1)\n",
    "ideas_reorg[\"automask_res\"] = ideas_reorg.apply(lambda x: _get_automask_res(x[\"rPOP_dir_source\"], x[\"rPOP_dir_target\"], x.name), axis=1)\n",
    "ideas_reorg[\"failed_automask_res\"] = ideas_reorg.apply(lambda x: _get_automask_res(x[\"failed_rPOP_dir_source\"], x[\"failed_rPOP_dir_target\"], x.name), axis=1)\n",
    "\n",
    "\n",
    "for col in [\"rrmean_nii\", \"wrrmean_nii\", \"sn_rrmean\", \"swrrmean_nii\", \"automask_res\"]:\n",
    "    print(\"'{}': {}/{} NA values\".format(col, pd.isna(ideas_reorg[col]).sum(), len(ideas_reorg)))\n",
    "for col in [\"failed_rrmean_nii\", \"failed_wrrmean_nii\", \"failed_sn_rrmean\", \"failed_swrrmean_nii\", \"failed_automask_res\"]:\n",
    "    print(\"'{}': {}/{} NA values\".format(col, pd.isna(ideas_reorg.loc[ideas_reorg[\"first_rPOP_failed\"]==True, col]).sum(),\n",
    "                                         len(ideas_reorg.loc[ideas_reorg[\"first_rPOP_failed\"]==True])))"
   ]
  },
  {
   "cell_type": "code",
   "execution_count": 195,
   "id": "1f8c77e1-fc64-45fb-881a-e984bf54f84b",
   "metadata": {
    "execution": {
     "iopub.execute_input": "2023-02-07T00:50:40.897265Z",
     "iopub.status.busy": "2023-02-07T00:50:40.894019Z",
     "iopub.status.idle": "2023-02-07T00:56:33.594150Z",
     "shell.execute_reply": "2023-02-07T00:56:33.592711Z",
     "shell.execute_reply.started": "2023-02-07T00:50:40.897200Z"
    },
    "tags": []
   },
   "outputs": [
    {
     "name": "stdout",
     "output_type": "stream",
     "text": [
      "failed_automask_res 64681 1\n"
     ]
    }
   ],
   "source": [
    "# Move or copy files into the rPOP and rPOP_failed directories.\n",
    "overwrite = False\n",
    "# ------------------------------------\n",
    "\n",
    "copy_cols = [\n",
    "    \"rrmean_nii\", \"failed_rrmean_nii\",\n",
    "    \"wrrmean_nii\", \"failed_wrrmean_nii\",\n",
    "    \"sn_rrmean\", \"failed_sn_rrmean\",\n",
    "    \"swrrmean_nii\", \"failed_swrrmean_nii\",\n",
    "    \"automask_res\", \"failed_automask_res\"\n",
    "]\n",
    "copied_subjs = od(zip(copy_cols, [[]] * len(copy_cols)))\n",
    "not_copied_subjs = od(zip(copy_cols, [[]] * len(copy_cols)))\n",
    "for col in copy_cols:\n",
    "    count = 0\n",
    "    for subj, row in ideas_reorg.iterrows():\n",
    "        copied = False\n",
    "        if not pd.isna(row[col]):\n",
    "            for oldpath, newpath in row[col].items():\n",
    "                if np.all((op.isfile(oldpath), np.any((overwrite, not op.exists(newpath))))):\n",
    "                    os.makedirs(op.dirname(newpath), exist_ok=True)\n",
    "                    shutil.copy(oldpath, newpath)\n",
    "                    copied = True\n",
    "        if copied:\n",
    "            copied_subjs[col].append(subj)\n",
    "        else:\n",
    "            not_copied_subjs[col].append(subj)\n",
    "    count += 1\n",
    "\n",
    "print(col, subj, count)"
   ]
  },
  {
   "cell_type": "markdown",
   "id": "b707e325-d1c8-453a-b2e7-dbaab4a4fc35",
   "metadata": {
    "execution": {
     "iopub.execute_input": "2023-02-07T21:12:49.353977Z",
     "iopub.status.busy": "2023-02-07T21:12:49.350055Z",
     "iopub.status.idle": "2023-02-07T21:12:49.362197Z",
     "shell.execute_reply": "2023-02-07T21:12:49.360825Z",
     "shell.execute_reply.started": "2023-02-07T21:12:49.353915Z"
    }
   },
   "source": [
    "# Empty voxel identification"
   ]
  },
  {
   "cell_type": "code",
   "execution_count": 201,
   "id": "843e0f74-9b54-4f59-a880-6dfd5951196c",
   "metadata": {
    "execution": {
     "iopub.execute_input": "2023-02-07T21:36:24.573416Z",
     "iopub.status.busy": "2023-02-07T21:36:24.572817Z",
     "iopub.status.idle": "2023-02-07T21:36:24.660175Z",
     "shell.execute_reply": "2023-02-07T21:36:24.658606Z",
     "shell.execute_reply.started": "2023-02-07T21:36:24.573372Z"
    },
    "tags": []
   },
   "outputs": [
    {
     "ename": "ModuleNotFoundError",
     "evalue": "No module named 'nibabel'",
     "output_type": "error",
     "traceback": [
      "\u001b[0;31m---------------------------------------------------------------------------\u001b[0m",
      "\u001b[0;31mModuleNotFoundError\u001b[0m                       Traceback (most recent call last)",
      "Cell \u001b[0;32mIn[201], line 2\u001b[0m\n\u001b[1;32m      1\u001b[0m sys\u001b[38;5;241m.\u001b[39mpath\u001b[38;5;241m.\u001b[39mappend(op\u001b[38;5;241m.\u001b[39mjoin(op\u001b[38;5;241m.\u001b[39mexpanduser(\u001b[38;5;124m\"\u001b[39m\u001b[38;5;124m~\u001b[39m\u001b[38;5;124m\"\u001b[39m), \u001b[38;5;124m\"\u001b[39m\u001b[38;5;124mcode\u001b[39m\u001b[38;5;124m\"\u001b[39m))\n\u001b[0;32m----> 2\u001b[0m \u001b[38;5;28;01mfrom\u001b[39;00m \u001b[38;5;21;01mgeneral\u001b[39;00m\u001b[38;5;21;01m.\u001b[39;00m\u001b[38;5;21;01mnifti\u001b[39;00m \u001b[38;5;28;01mimport\u001b[39;00m nifti_ops \u001b[38;5;28;01mas\u001b[39;00m nops\n",
      "File \u001b[0;32m~/code/general/nifti/nifti_ops.py:5\u001b[0m\n\u001b[1;32m      3\u001b[0m \u001b[38;5;28;01mimport\u001b[39;00m \u001b[38;5;21;01mnumpy\u001b[39;00m \u001b[38;5;28;01mas\u001b[39;00m \u001b[38;5;21;01mnp\u001b[39;00m\n\u001b[1;32m      4\u001b[0m \u001b[38;5;28;01mimport\u001b[39;00m \u001b[38;5;21;01mpandas\u001b[39;00m \u001b[38;5;28;01mas\u001b[39;00m \u001b[38;5;21;01mpd\u001b[39;00m\n\u001b[0;32m----> 5\u001b[0m \u001b[38;5;28;01mimport\u001b[39;00m \u001b[38;5;21;01mnibabel\u001b[39;00m \u001b[38;5;28;01mas\u001b[39;00m \u001b[38;5;21;01mnib\u001b[39;00m\n\u001b[1;32m      8\u001b[0m \u001b[38;5;28;01mdef\u001b[39;00m \u001b[38;5;21mload_nii\u001b[39m(\n\u001b[1;32m      9\u001b[0m     infile,\n\u001b[1;32m     10\u001b[0m     dtype\u001b[38;5;241m=\u001b[39mnp\u001b[38;5;241m.\u001b[39mfloat32,\n\u001b[0;32m   (...)\u001b[0m\n\u001b[1;32m     14\u001b[0m     int_rounding\u001b[38;5;241m=\u001b[39m\u001b[38;5;124m\"\u001b[39m\u001b[38;5;124mnearest\u001b[39m\u001b[38;5;124m\"\u001b[39m,\n\u001b[1;32m     15\u001b[0m ):\n\u001b[1;32m     16\u001b[0m \u001b[38;5;250m    \u001b[39m\u001b[38;5;124;03m\"\"\"Load a NIfTI file and return the NIfTI image and data array.\u001b[39;00m\n\u001b[1;32m     17\u001b[0m \n\u001b[1;32m     18\u001b[0m \u001b[38;5;124;03m    Returns (img, dat), with dat being an instance of img.dataobj loaded\u001b[39;00m\n\u001b[0;32m   (...)\u001b[0m\n\u001b[1;32m     47\u001b[0m \u001b[38;5;124;03m    dat : ndarray or ndarray subclass\u001b[39;00m\n\u001b[1;32m     48\u001b[0m \u001b[38;5;124;03m    \"\"\"\u001b[39;00m\n",
      "\u001b[0;31mModuleNotFoundError\u001b[0m: No module named 'nibabel'"
     ]
    }
   ],
   "source": [
    "sys.path.append(op.join(op.expanduser(\"~\"), \"code\"))\n",
    "from general.nifti import nifti_ops as nops"
   ]
  },
  {
   "cell_type": "code",
   "execution_count": 199,
   "id": "f176f8cf-3f1d-4fc3-b53c-3a0bde99569e",
   "metadata": {
    "execution": {
     "iopub.execute_input": "2023-02-07T21:35:46.676972Z",
     "iopub.status.busy": "2023-02-07T21:35:46.676419Z",
     "iopub.status.idle": "2023-02-07T21:35:46.686197Z",
     "shell.execute_reply": "2023-02-07T21:35:46.684812Z",
     "shell.execute_reply.started": "2023-02-07T21:35:46.676932Z"
    },
    "tags": []
   },
   "outputs": [
    {
     "data": {
      "text/plain": [
       "'/home/mac/dschonhaut'"
      ]
     },
     "execution_count": 199,
     "metadata": {},
     "output_type": "execute_result"
    }
   ],
   "source": []
  },
  {
   "cell_type": "code",
   "execution_count": null,
   "id": "c7ec7228-efe2-4656-8d02-b87863715c0e",
   "metadata": {},
   "outputs": [],
   "source": []
  },
  {
   "cell_type": "markdown",
   "id": "3b126f68-f883-4910-81f0-2f3a07a3eda7",
   "metadata": {},
   "source": [
    "# Checks"
   ]
  },
  {
   "cell_type": "code",
   "execution_count": 99,
   "id": "57697b63-b72f-46c8-8915-aae0d304b6dc",
   "metadata": {
    "execution": {
     "iopub.execute_input": "2023-02-04T05:57:30.571180Z",
     "iopub.status.busy": "2023-02-04T05:57:30.570637Z",
     "iopub.status.idle": "2023-02-04T05:57:30.577904Z",
     "shell.execute_reply": "2023-02-04T05:57:30.576802Z",
     "shell.execute_reply.started": "2023-02-04T05:57:30.571144Z"
    },
    "tags": []
   },
   "outputs": [
    {
     "name": "stdout",
     "output_type": "stream",
     "text": [
      "[50001, 50005, 50026, 50082, 50651, 54720]\n"
     ]
    }
   ],
   "source": [
    "print(keep_subjs)"
   ]
  },
  {
   "cell_type": "code",
   "execution_count": 167,
   "id": "57b3e486-ab80-4b36-b34e-f2dd8f93df8b",
   "metadata": {
    "execution": {
     "iopub.execute_input": "2023-02-04T23:33:24.918083Z",
     "iopub.status.busy": "2023-02-04T23:33:24.916312Z",
     "iopub.status.idle": "2023-02-04T23:33:24.932959Z",
     "shell.execute_reply": "2023-02-04T23:33:24.931302Z",
     "shell.execute_reply.started": "2023-02-04T23:33:24.918021Z"
    },
    "tags": []
   },
   "outputs": [
    {
     "name": "stdout",
     "output_type": "stream",
     "text": [
      "50001\n",
      "-----\n",
      "subj_dir_source: /mnt/coredata/Projects/IDEAS_FullAnalysis/data_oldorganized/FirstQuery_12012021/IDEASHOLD/50001\n",
      "\n",
      "dcm_dir_used_source: /mnt/coredata/Projects/IDEAS_FullAnalysis/data_oldorganized/FirstQuery_12012021/IDEASHOLD/50001/PET_Brain_AC__AC_/1940-03-17_14_00_54.0/I10025334\n",
      "\n",
      "rPOP_dir_source: /mnt/coredata/Projects/IDEAS_FullAnalysis/data_oldorganized/FirstQuery_12012021/IDEASHOLD_allnifti\n",
      "\n",
      "subj_dir_target: /mnt/coredata/Projects/IDEAS/data/50001\n",
      "\n",
      "dcm_dir_used_target: /mnt/coredata/Projects/IDEAS/data/50001/raw/PET_Brain_AC__AC_/1940-03-17_14_00_54.0/I10025334\n",
      "\n",
      "raw_dir_target: /mnt/coredata/Projects/IDEAS/data/50001/raw\n",
      "\n",
      "proc_dir_target: /mnt/coredata/Projects/IDEAS/data/50001/proc\n",
      "\n",
      "realign_dir_target: /mnt/coredata/Projects/IDEAS/data/50001/proc/intermed/realign\n",
      "\n",
      "rPOP_dir_target: /mnt/coredata/Projects/IDEAS/data/50001/proc/intermed/rPOP\n",
      "\n",
      "empty_voxel_dir_target: /mnt/coredata/Projects/IDEAS/data/50001/proc/intermed/empty_voxels\n",
      "\n",
      "n_recon_dirs: 1\n",
      "\n",
      "n_recon_dcms: 110\n",
      "\n",
      "n_recon_niis: 1\n",
      "\n",
      "recon_dirs:\n",
      "\t<< /mnt/coredata/Projects/IDEAS_FullAnalysis/data_oldorganized/FirstQuery_12012021/IDEASHOLD/50001/PET_Brain_AC__AC_\n",
      "\t>> /mnt/coredata/Projects/IDEAS/data/50001/raw/PET_Brain_AC__AC_\n",
      "\n",
      "recon_niis:\n",
      "\t<< /mnt/coredata/Projects/IDEAS/data/50001/raw/recon_used/frame001_50001.nii\n",
      "\t>> /mnt/coredata/Projects/IDEAS/data/50001/raw/recon_used/frame001_50001.nii\n",
      "\n",
      "dcmHeaders:\n",
      "\t<< /mnt/coredata/Projects/IDEAS/data/50001/raw/recon_used/dcmHeaders.mat\n",
      "\t>> /mnt/coredata/Projects/IDEAS/data/50001/raw/recon_used/dcmHeaders_50001.mat\n",
      "\n",
      "first_rPOP_failed: False\n",
      "\n"
     ]
    }
   ],
   "source": [
    "subj = 50001\n",
    "cols = [\"subj_dir_source\", \"raw_dir_source\", \"rPOP_dir_source\"]\n",
    "print(subj, '-'*len(str(subj)), sep='\\n')\n",
    "for col in ideas_reorg.columns:\n",
    "    val = ideas_reorg.at[subj, col]\n",
    "    if not pd.isna(val):\n",
    "        if type(val) == od:\n",
    "            print(f\"{col}:\")\n",
    "            for k, v in val.items():\n",
    "                print(f\"\\t<< {k}\\n\\t>> {v}\\n\")\n",
    "        else:\n",
    "            print(f\"{col}: {val}\\n\")"
   ]
  },
  {
   "cell_type": "code",
   "execution_count": 40,
   "id": "047ec0a5-4b7d-4e6b-820e-0a2a906a4667",
   "metadata": {
    "execution": {
     "iopub.execute_input": "2023-01-23T21:55:17.384503Z",
     "iopub.status.busy": "2023-01-23T21:55:17.384285Z",
     "iopub.status.idle": "2023-01-23T21:55:17.387984Z",
     "shell.execute_reply": "2023-01-23T21:55:17.387474Z",
     "shell.execute_reply.started": "2023-01-23T21:55:17.384487Z"
    },
    "tags": []
   },
   "outputs": [
    {
     "name": "stdout",
     "output_type": "stream",
     "text": [
      "hi\n"
     ]
    }
   ],
   "source": [
    "_subdirs = op.normpath(paths['path_to_dcm_folder']).split(os.sep)\n",
    "try:\n",
    "    ideas_reorg.at[subj, \"recon_dir_used\"] = _subdirs[_subdirs.index(str(subj))+1]\n",
    "except ValueError:\n",
    "    print('hi')"
   ]
  },
  {
   "cell_type": "code",
   "execution_count": 21,
   "id": "7d599013-053c-4ce7-98d7-691a438f5e2d",
   "metadata": {
    "execution": {
     "iopub.execute_input": "2023-01-23T20:32:16.110048Z",
     "iopub.status.busy": "2023-01-23T20:32:16.109757Z",
     "iopub.status.idle": "2023-01-23T20:32:16.125253Z",
     "shell.execute_reply": "2023-01-23T20:32:16.124419Z",
     "shell.execute_reply.started": "2023-01-23T20:32:16.110032Z"
    },
    "tags": []
   },
   "outputs": [
    {
     "data": {
      "text/html": [
       "<div>\n",
       "<style scoped>\n",
       "    .dataframe tbody tr th:only-of-type {\n",
       "        vertical-align: middle;\n",
       "    }\n",
       "\n",
       "    .dataframe tbody tr th {\n",
       "        vertical-align: top;\n",
       "    }\n",
       "\n",
       "    .dataframe thead th {\n",
       "        text-align: right;\n",
       "    }\n",
       "</style>\n",
       "<table border=\"1\" class=\"dataframe\">\n",
       "  <thead>\n",
       "    <tr style=\"text-align: right;\">\n",
       "      <th></th>\n",
       "      <th>recon_dir_used</th>\n",
       "      <th>n_dcms_used</th>\n",
       "      <th>dcmHeader_used</th>\n",
       "      <th>n_recon_niisrecon_niis</th>\n",
       "      <th>realigned_niis</th>\n",
       "      <th>mean_nii</th>\n",
       "      <th>wmean_nii</th>\n",
       "      <th>swmean_nii</th>\n",
       "      <th>automask_res</th>\n",
       "      <th>sn_rmean</th>\n",
       "      <th>mult_recons</th>\n",
       "      <th>recon_dir_alt</th>\n",
       "      <th>dcmHeader_alt</th>\n",
       "      <th>recon_niis_alt</th>\n",
       "      <th>first_proc_failedrealigned_niis_failed</th>\n",
       "      <th>mean_nii_failed</th>\n",
       "      <th>wmean_nii_failed</th>\n",
       "      <th>swmean_nii_failed</th>\n",
       "      <th>automask_res_failed</th>\n",
       "      <th>sn_rmean_failed</th>\n",
       "    </tr>\n",
       "    <tr>\n",
       "      <th>ID</th>\n",
       "      <th></th>\n",
       "      <th></th>\n",
       "      <th></th>\n",
       "      <th></th>\n",
       "      <th></th>\n",
       "      <th></th>\n",
       "      <th></th>\n",
       "      <th></th>\n",
       "      <th></th>\n",
       "      <th></th>\n",
       "      <th></th>\n",
       "      <th></th>\n",
       "      <th></th>\n",
       "      <th></th>\n",
       "      <th></th>\n",
       "      <th></th>\n",
       "      <th></th>\n",
       "      <th></th>\n",
       "      <th></th>\n",
       "      <th></th>\n",
       "    </tr>\n",
       "  </thead>\n",
       "  <tbody>\n",
       "    <tr>\n",
       "      <th>50001</th>\n",
       "      <td>NaN</td>\n",
       "      <td>NaN</td>\n",
       "      <td>NaN</td>\n",
       "      <td>NaN</td>\n",
       "      <td>NaN</td>\n",
       "      <td>NaN</td>\n",
       "      <td>NaN</td>\n",
       "      <td>NaN</td>\n",
       "      <td>NaN</td>\n",
       "      <td>NaN</td>\n",
       "      <td>NaN</td>\n",
       "      <td>NaN</td>\n",
       "      <td>NaN</td>\n",
       "      <td>NaN</td>\n",
       "      <td>NaN</td>\n",
       "      <td>NaN</td>\n",
       "      <td>NaN</td>\n",
       "      <td>NaN</td>\n",
       "      <td>NaN</td>\n",
       "      <td>NaN</td>\n",
       "    </tr>\n",
       "    <tr>\n",
       "      <th>50002</th>\n",
       "      <td>NaN</td>\n",
       "      <td>NaN</td>\n",
       "      <td>NaN</td>\n",
       "      <td>NaN</td>\n",
       "      <td>NaN</td>\n",
       "      <td>NaN</td>\n",
       "      <td>NaN</td>\n",
       "      <td>NaN</td>\n",
       "      <td>NaN</td>\n",
       "      <td>NaN</td>\n",
       "      <td>NaN</td>\n",
       "      <td>NaN</td>\n",
       "      <td>NaN</td>\n",
       "      <td>NaN</td>\n",
       "      <td>NaN</td>\n",
       "      <td>NaN</td>\n",
       "      <td>NaN</td>\n",
       "      <td>NaN</td>\n",
       "      <td>NaN</td>\n",
       "      <td>NaN</td>\n",
       "    </tr>\n",
       "    <tr>\n",
       "      <th>50003</th>\n",
       "      <td>NaN</td>\n",
       "      <td>NaN</td>\n",
       "      <td>NaN</td>\n",
       "      <td>NaN</td>\n",
       "      <td>NaN</td>\n",
       "      <td>NaN</td>\n",
       "      <td>NaN</td>\n",
       "      <td>NaN</td>\n",
       "      <td>NaN</td>\n",
       "      <td>NaN</td>\n",
       "      <td>NaN</td>\n",
       "      <td>NaN</td>\n",
       "      <td>NaN</td>\n",
       "      <td>NaN</td>\n",
       "      <td>NaN</td>\n",
       "      <td>NaN</td>\n",
       "      <td>NaN</td>\n",
       "      <td>NaN</td>\n",
       "      <td>NaN</td>\n",
       "      <td>NaN</td>\n",
       "    </tr>\n",
       "    <tr>\n",
       "      <th>50004</th>\n",
       "      <td>NaN</td>\n",
       "      <td>NaN</td>\n",
       "      <td>NaN</td>\n",
       "      <td>NaN</td>\n",
       "      <td>NaN</td>\n",
       "      <td>NaN</td>\n",
       "      <td>NaN</td>\n",
       "      <td>NaN</td>\n",
       "      <td>NaN</td>\n",
       "      <td>NaN</td>\n",
       "      <td>NaN</td>\n",
       "      <td>NaN</td>\n",
       "      <td>NaN</td>\n",
       "      <td>NaN</td>\n",
       "      <td>NaN</td>\n",
       "      <td>NaN</td>\n",
       "      <td>NaN</td>\n",
       "      <td>NaN</td>\n",
       "      <td>NaN</td>\n",
       "      <td>NaN</td>\n",
       "    </tr>\n",
       "    <tr>\n",
       "      <th>50005</th>\n",
       "      <td>NaN</td>\n",
       "      <td>NaN</td>\n",
       "      <td>NaN</td>\n",
       "      <td>NaN</td>\n",
       "      <td>NaN</td>\n",
       "      <td>NaN</td>\n",
       "      <td>NaN</td>\n",
       "      <td>NaN</td>\n",
       "      <td>NaN</td>\n",
       "      <td>NaN</td>\n",
       "      <td>NaN</td>\n",
       "      <td>NaN</td>\n",
       "      <td>NaN</td>\n",
       "      <td>NaN</td>\n",
       "      <td>NaN</td>\n",
       "      <td>NaN</td>\n",
       "      <td>NaN</td>\n",
       "      <td>NaN</td>\n",
       "      <td>NaN</td>\n",
       "      <td>NaN</td>\n",
       "    </tr>\n",
       "  </tbody>\n",
       "</table>\n",
       "</div>"
      ],
      "text/plain": [
       "      recon_dir_used n_dcms_used dcmHeader_used n_recon_niisrecon_niis  \\\n",
       "ID                                                                       \n",
       "50001            NaN         NaN            NaN                    NaN   \n",
       "50002            NaN         NaN            NaN                    NaN   \n",
       "50003            NaN         NaN            NaN                    NaN   \n",
       "50004            NaN         NaN            NaN                    NaN   \n",
       "50005            NaN         NaN            NaN                    NaN   \n",
       "\n",
       "      realigned_niis mean_nii wmean_nii swmean_nii automask_res sn_rmean  \\\n",
       "ID                                                                         \n",
       "50001            NaN      NaN       NaN        NaN          NaN      NaN   \n",
       "50002            NaN      NaN       NaN        NaN          NaN      NaN   \n",
       "50003            NaN      NaN       NaN        NaN          NaN      NaN   \n",
       "50004            NaN      NaN       NaN        NaN          NaN      NaN   \n",
       "50005            NaN      NaN       NaN        NaN          NaN      NaN   \n",
       "\n",
       "      mult_recons recon_dir_alt dcmHeader_alt recon_niis_alt  \\\n",
       "ID                                                             \n",
       "50001         NaN           NaN           NaN            NaN   \n",
       "50002         NaN           NaN           NaN            NaN   \n",
       "50003         NaN           NaN           NaN            NaN   \n",
       "50004         NaN           NaN           NaN            NaN   \n",
       "50005         NaN           NaN           NaN            NaN   \n",
       "\n",
       "      first_proc_failedrealigned_niis_failed mean_nii_failed wmean_nii_failed  \\\n",
       "ID                                                                              \n",
       "50001                                    NaN             NaN              NaN   \n",
       "50002                                    NaN             NaN              NaN   \n",
       "50003                                    NaN             NaN              NaN   \n",
       "50004                                    NaN             NaN              NaN   \n",
       "50005                                    NaN             NaN              NaN   \n",
       "\n",
       "      swmean_nii_failed automask_res_failed sn_rmean_failed  \n",
       "ID                                                           \n",
       "50001               NaN                 NaN             NaN  \n",
       "50002               NaN                 NaN             NaN  \n",
       "50003               NaN                 NaN             NaN  \n",
       "50004               NaN                 NaN             NaN  \n",
       "50005               NaN                 NaN             NaN  "
      ]
     },
     "execution_count": 21,
     "metadata": {},
     "output_type": "execute_result"
    }
   ],
   "source": [
    "ideas_reorg = pd.DataFrame(index=ideas_paths.index, columns=newpath_cols)\n",
    "ideas_reorg.head()"
   ]
  },
  {
   "cell_type": "code",
   "execution_count": 13,
   "id": "97c191bf-e1c4-4e72-9433-b3b497b3a167",
   "metadata": {
    "execution": {
     "iopub.execute_input": "2023-01-23T19:05:39.448036Z",
     "iopub.status.busy": "2023-01-23T19:05:39.447815Z",
     "iopub.status.idle": "2023-01-23T19:05:39.458677Z",
     "shell.execute_reply": "2023-01-23T19:05:39.458147Z",
     "shell.execute_reply.started": "2023-01-23T19:05:39.448021Z"
    },
    "tags": []
   },
   "outputs": [
    {
     "data": {
      "text/html": [
       "<div>\n",
       "<style scoped>\n",
       "    .dataframe tbody tr th:only-of-type {\n",
       "        vertical-align: middle;\n",
       "    }\n",
       "\n",
       "    .dataframe tbody tr th {\n",
       "        vertical-align: top;\n",
       "    }\n",
       "\n",
       "    .dataframe thead th {\n",
       "        text-align: right;\n",
       "    }\n",
       "</style>\n",
       "<table border=\"1\" class=\"dataframe\">\n",
       "  <thead>\n",
       "    <tr style=\"text-align: right;\">\n",
       "      <th></th>\n",
       "      <th>num_dcms</th>\n",
       "      <th>path_to_dcm_folder</th>\n",
       "      <th>path_to_rPOP_outputs</th>\n",
       "      <th>path_to_nativenii</th>\n",
       "      <th>path_to_warpednii</th>\n",
       "      <th>path_to_smoothed_nii</th>\n",
       "      <th>NOTES</th>\n",
       "      <th>FIX_path_ALL</th>\n",
       "    </tr>\n",
       "    <tr>\n",
       "      <th>ID</th>\n",
       "      <th></th>\n",
       "      <th></th>\n",
       "      <th></th>\n",
       "      <th></th>\n",
       "      <th></th>\n",
       "      <th></th>\n",
       "      <th></th>\n",
       "      <th></th>\n",
       "    </tr>\n",
       "  </thead>\n",
       "  <tbody>\n",
       "    <tr>\n",
       "      <th>50001</th>\n",
       "      <td>single</td>\n",
       "      <td>/mnt/coredata/Projects/IDEAS_FullAnalysis/data...</td>\n",
       "      <td>/mnt/coredata/Projects/IDEAS_FullAnalysis/data...</td>\n",
       "      <td>/mnt/coredata/Projects/IDEAS_FullAnalysis/data...</td>\n",
       "      <td>/mnt/coredata/Projects/IDEAS_FullAnalysis/all_...</td>\n",
       "      <td>/mnt/coredata/Projects/IDEAS_FullAnalysis/data...</td>\n",
       "      <td>NaN</td>\n",
       "      <td>NaN</td>\n",
       "    </tr>\n",
       "    <tr>\n",
       "      <th>50002</th>\n",
       "      <td>single</td>\n",
       "      <td>/mnt/coredata/Projects/IDEAS_FullAnalysis/data...</td>\n",
       "      <td>/mnt/coredata/Projects/IDEAS_FullAnalysis/data...</td>\n",
       "      <td>/mnt/coredata/Projects/IDEAS_FullAnalysis/data...</td>\n",
       "      <td>/mnt/coredata/Projects/IDEAS_FullAnalysis/all_...</td>\n",
       "      <td>/mnt/coredata/Projects/IDEAS_FullAnalysis/data...</td>\n",
       "      <td>NaN</td>\n",
       "      <td>NaN</td>\n",
       "    </tr>\n",
       "    <tr>\n",
       "      <th>50003</th>\n",
       "      <td>multiple</td>\n",
       "      <td>/mnt/coredata/Projects/IDEAS_FullAnalysis/data...</td>\n",
       "      <td>/mnt/coredata/Projects/IDEAS_FullAnalysis/data...</td>\n",
       "      <td>/mnt/coredata/Projects/IDEAS_FullAnalysis/data...</td>\n",
       "      <td>/mnt/coredata/Projects/IDEAS_FullAnalysis/all_...</td>\n",
       "      <td>/mnt/coredata/Projects/IDEAS_FullAnalysis/data...</td>\n",
       "      <td>NaN</td>\n",
       "      <td>NaN</td>\n",
       "    </tr>\n",
       "    <tr>\n",
       "      <th>50004</th>\n",
       "      <td>multiple</td>\n",
       "      <td>/mnt/coredata/Projects/IDEAS_FullAnalysis/data...</td>\n",
       "      <td>/mnt/coredata/Projects/IDEAS_FullAnalysis/data...</td>\n",
       "      <td>/mnt/coredata/Projects/IDEAS_FullAnalysis/data...</td>\n",
       "      <td>/mnt/coredata/Projects/IDEAS_FullAnalysis/all_...</td>\n",
       "      <td>/mnt/coredata/Projects/IDEAS_FullAnalysis/data...</td>\n",
       "      <td>NaN</td>\n",
       "      <td>NaN</td>\n",
       "    </tr>\n",
       "    <tr>\n",
       "      <th>50005</th>\n",
       "      <td>multiple</td>\n",
       "      <td>/mnt/coredata/Projects/IDEAS_FullAnalysis/data...</td>\n",
       "      <td>/mnt/coredata/Projects/IDEAS_FullAnalysis/data...</td>\n",
       "      <td>/mnt/coredata/Projects/IDEAS_FullAnalysis/data...</td>\n",
       "      <td>/mnt/coredata/Projects/IDEAS_FullAnalysis/all_...</td>\n",
       "      <td>/mnt/coredata/Projects/IDEAS_FullAnalysis/data...</td>\n",
       "      <td>NaN</td>\n",
       "      <td>NaN</td>\n",
       "    </tr>\n",
       "    <tr>\n",
       "      <th>...</th>\n",
       "      <td>...</td>\n",
       "      <td>...</td>\n",
       "      <td>...</td>\n",
       "      <td>...</td>\n",
       "      <td>...</td>\n",
       "      <td>...</td>\n",
       "      <td>...</td>\n",
       "      <td>...</td>\n",
       "    </tr>\n",
       "    <tr>\n",
       "      <th>64677</th>\n",
       "      <td>multiple</td>\n",
       "      <td>/mnt/coredata/Projects/IDEAS_FullAnalysis/data...</td>\n",
       "      <td>/mnt/coredata/Projects/IDEAS_FullAnalysis/data...</td>\n",
       "      <td>/mnt/coredata/Projects/IDEAS_FullAnalysis/data...</td>\n",
       "      <td>/mnt/coredata/Projects/IDEAS_FullAnalysis/all_...</td>\n",
       "      <td>/mnt/coredata/Projects/IDEAS_FullAnalysis/data...</td>\n",
       "      <td>NaN</td>\n",
       "      <td>NaN</td>\n",
       "    </tr>\n",
       "    <tr>\n",
       "      <th>64678</th>\n",
       "      <td>single</td>\n",
       "      <td>/mnt/coredata/Projects/IDEAS_FullAnalysis/data...</td>\n",
       "      <td>/mnt/coredata/Projects/IDEAS_FullAnalysis/data...</td>\n",
       "      <td>/mnt/coredata/Projects/IDEAS_FullAnalysis/data...</td>\n",
       "      <td>/mnt/coredata/Projects/IDEAS_FullAnalysis/all_...</td>\n",
       "      <td>/mnt/coredata/Projects/IDEAS_FullAnalysis/data...</td>\n",
       "      <td>NaN</td>\n",
       "      <td>NaN</td>\n",
       "    </tr>\n",
       "    <tr>\n",
       "      <th>64679</th>\n",
       "      <td>single</td>\n",
       "      <td>/mnt/coredata/Projects/IDEAS_FullAnalysis/data...</td>\n",
       "      <td>/mnt/coredata/Projects/IDEAS_FullAnalysis/data...</td>\n",
       "      <td>/mnt/coredata/Projects/IDEAS_FullAnalysis/data...</td>\n",
       "      <td>/mnt/coredata/Projects/IDEAS_FullAnalysis/all_...</td>\n",
       "      <td>/mnt/coredata/Projects/IDEAS_FullAnalysis/data...</td>\n",
       "      <td>NaN</td>\n",
       "      <td>NaN</td>\n",
       "    </tr>\n",
       "    <tr>\n",
       "      <th>64680</th>\n",
       "      <td>single</td>\n",
       "      <td>/mnt/coredata/Projects/IDEAS_FullAnalysis/data...</td>\n",
       "      <td>/mnt/coredata/Projects/IDEAS_FullAnalysis/data...</td>\n",
       "      <td>/mnt/coredata/Projects/IDEAS_FullAnalysis/data...</td>\n",
       "      <td>/mnt/coredata/Projects/IDEAS_FullAnalysis/all_...</td>\n",
       "      <td>/mnt/coredata/Projects/IDEAS_FullAnalysis/data...</td>\n",
       "      <td>NaN</td>\n",
       "      <td>NaN</td>\n",
       "    </tr>\n",
       "    <tr>\n",
       "      <th>64681</th>\n",
       "      <td>single</td>\n",
       "      <td>/mnt/coredata/Projects/IDEAS_FullAnalysis/data...</td>\n",
       "      <td>/mnt/coredata/Projects/IDEAS_FullAnalysis/data...</td>\n",
       "      <td>/mnt/coredata/Projects/IDEAS_FullAnalysis/data...</td>\n",
       "      <td>/mnt/coredata/Projects/IDEAS_FullAnalysis/all_...</td>\n",
       "      <td>/mnt/coredata/Projects/IDEAS_FullAnalysis/data...</td>\n",
       "      <td>NaN</td>\n",
       "      <td>NaN</td>\n",
       "    </tr>\n",
       "  </tbody>\n",
       "</table>\n",
       "<p>10700 rows × 8 columns</p>\n",
       "</div>"
      ],
      "text/plain": [
       "       num_dcms                                 path_to_dcm_folder  \\\n",
       "ID                                                                   \n",
       "50001    single  /mnt/coredata/Projects/IDEAS_FullAnalysis/data...   \n",
       "50002    single  /mnt/coredata/Projects/IDEAS_FullAnalysis/data...   \n",
       "50003  multiple  /mnt/coredata/Projects/IDEAS_FullAnalysis/data...   \n",
       "50004  multiple  /mnt/coredata/Projects/IDEAS_FullAnalysis/data...   \n",
       "50005  multiple  /mnt/coredata/Projects/IDEAS_FullAnalysis/data...   \n",
       "...         ...                                                ...   \n",
       "64677  multiple  /mnt/coredata/Projects/IDEAS_FullAnalysis/data...   \n",
       "64678    single  /mnt/coredata/Projects/IDEAS_FullAnalysis/data...   \n",
       "64679    single  /mnt/coredata/Projects/IDEAS_FullAnalysis/data...   \n",
       "64680    single  /mnt/coredata/Projects/IDEAS_FullAnalysis/data...   \n",
       "64681    single  /mnt/coredata/Projects/IDEAS_FullAnalysis/data...   \n",
       "\n",
       "                                    path_to_rPOP_outputs  \\\n",
       "ID                                                         \n",
       "50001  /mnt/coredata/Projects/IDEAS_FullAnalysis/data...   \n",
       "50002  /mnt/coredata/Projects/IDEAS_FullAnalysis/data...   \n",
       "50003  /mnt/coredata/Projects/IDEAS_FullAnalysis/data...   \n",
       "50004  /mnt/coredata/Projects/IDEAS_FullAnalysis/data...   \n",
       "50005  /mnt/coredata/Projects/IDEAS_FullAnalysis/data...   \n",
       "...                                                  ...   \n",
       "64677  /mnt/coredata/Projects/IDEAS_FullAnalysis/data...   \n",
       "64678  /mnt/coredata/Projects/IDEAS_FullAnalysis/data...   \n",
       "64679  /mnt/coredata/Projects/IDEAS_FullAnalysis/data...   \n",
       "64680  /mnt/coredata/Projects/IDEAS_FullAnalysis/data...   \n",
       "64681  /mnt/coredata/Projects/IDEAS_FullAnalysis/data...   \n",
       "\n",
       "                                       path_to_nativenii  \\\n",
       "ID                                                         \n",
       "50001  /mnt/coredata/Projects/IDEAS_FullAnalysis/data...   \n",
       "50002  /mnt/coredata/Projects/IDEAS_FullAnalysis/data...   \n",
       "50003  /mnt/coredata/Projects/IDEAS_FullAnalysis/data...   \n",
       "50004  /mnt/coredata/Projects/IDEAS_FullAnalysis/data...   \n",
       "50005  /mnt/coredata/Projects/IDEAS_FullAnalysis/data...   \n",
       "...                                                  ...   \n",
       "64677  /mnt/coredata/Projects/IDEAS_FullAnalysis/data...   \n",
       "64678  /mnt/coredata/Projects/IDEAS_FullAnalysis/data...   \n",
       "64679  /mnt/coredata/Projects/IDEAS_FullAnalysis/data...   \n",
       "64680  /mnt/coredata/Projects/IDEAS_FullAnalysis/data...   \n",
       "64681  /mnt/coredata/Projects/IDEAS_FullAnalysis/data...   \n",
       "\n",
       "                                       path_to_warpednii  \\\n",
       "ID                                                         \n",
       "50001  /mnt/coredata/Projects/IDEAS_FullAnalysis/all_...   \n",
       "50002  /mnt/coredata/Projects/IDEAS_FullAnalysis/all_...   \n",
       "50003  /mnt/coredata/Projects/IDEAS_FullAnalysis/all_...   \n",
       "50004  /mnt/coredata/Projects/IDEAS_FullAnalysis/all_...   \n",
       "50005  /mnt/coredata/Projects/IDEAS_FullAnalysis/all_...   \n",
       "...                                                  ...   \n",
       "64677  /mnt/coredata/Projects/IDEAS_FullAnalysis/all_...   \n",
       "64678  /mnt/coredata/Projects/IDEAS_FullAnalysis/all_...   \n",
       "64679  /mnt/coredata/Projects/IDEAS_FullAnalysis/all_...   \n",
       "64680  /mnt/coredata/Projects/IDEAS_FullAnalysis/all_...   \n",
       "64681  /mnt/coredata/Projects/IDEAS_FullAnalysis/all_...   \n",
       "\n",
       "                                    path_to_smoothed_nii NOTES FIX_path_ALL  \n",
       "ID                                                                           \n",
       "50001  /mnt/coredata/Projects/IDEAS_FullAnalysis/data...   NaN          NaN  \n",
       "50002  /mnt/coredata/Projects/IDEAS_FullAnalysis/data...   NaN          NaN  \n",
       "50003  /mnt/coredata/Projects/IDEAS_FullAnalysis/data...   NaN          NaN  \n",
       "50004  /mnt/coredata/Projects/IDEAS_FullAnalysis/data...   NaN          NaN  \n",
       "50005  /mnt/coredata/Projects/IDEAS_FullAnalysis/data...   NaN          NaN  \n",
       "...                                                  ...   ...          ...  \n",
       "64677  /mnt/coredata/Projects/IDEAS_FullAnalysis/data...   NaN          NaN  \n",
       "64678  /mnt/coredata/Projects/IDEAS_FullAnalysis/data...   NaN          NaN  \n",
       "64679  /mnt/coredata/Projects/IDEAS_FullAnalysis/data...   NaN          NaN  \n",
       "64680  /mnt/coredata/Projects/IDEAS_FullAnalysis/data...   NaN          NaN  \n",
       "64681  /mnt/coredata/Projects/IDEAS_FullAnalysis/data...   NaN          NaN  \n",
       "\n",
       "[10700 rows x 8 columns]"
      ]
     },
     "execution_count": 13,
     "metadata": {},
     "output_type": "execute_result"
    }
   ],
   "source": [
    "ideas_paths.set_index(\"ID\")"
   ]
  },
  {
   "cell_type": "code",
   "execution_count": 10,
   "id": "e736d2fb-dc68-4e91-b8ae-3fcaafa05c48",
   "metadata": {
    "execution": {
     "iopub.execute_input": "2023-01-23T19:03:19.248371Z",
     "iopub.status.busy": "2023-01-23T19:03:19.248144Z",
     "iopub.status.idle": "2023-01-23T19:03:19.254236Z",
     "shell.execute_reply": "2023-01-23T19:03:19.253677Z",
     "shell.execute_reply.started": "2023-01-23T19:03:19.248355Z"
    },
    "tags": []
   },
   "outputs": [
    {
     "name": "stderr",
     "output_type": "stream",
     "text": [
      "/var/folders/lq/rtbxthxd0ld0kkzmrlfbcktc0000gp/T/ipykernel_56553/920016215.py:2: FutureWarning: The default dtype for empty Series will be 'object' instead of 'float64' in a future version. Specify a dtype explicitly to silence this warning.\n",
      "  dat = pd.Series(index=dat_cols)\n"
     ]
    },
    {
     "data": {
      "text/plain": [
       "a       apple\n",
       "b    3.141593\n",
       "c         NaN\n",
       "d     dolphin\n",
       "dtype: object"
      ]
     },
     "execution_count": 10,
     "metadata": {},
     "output_type": "execute_result"
    }
   ],
   "source": [
    "dat_cols = [\"a\", \"b\", \"c\", \"d\"]\n",
    "subj = \"0001\"\n",
    "dat = [pd.Series(index=dat_cols, name=\"0001\")]\n",
    "dat[\"a\"] = \"apple\"\n",
    "dat[\"b\"] = np.pi\n",
    "dat[\"d\"] = np.nan\n",
    "dat[\"d\"] = \"dolphin\"\n",
    "\n",
    "dat"
   ]
  },
  {
   "cell_type": "code",
   "execution_count": null,
   "id": "927ef0a3-e29c-480c-8f37-a094e6400413",
   "metadata": {},
   "outputs": [],
   "source": []
  }
 ],
 "metadata": {
  "kernelspec": {
   "display_name": "Python [conda env:nipy310]",
   "language": "python",
   "name": "conda-env-nipy310-py"
  },
  "language_info": {
   "codemirror_mode": {
    "name": "ipython",
    "version": 3
   },
   "file_extension": ".py",
   "mimetype": "text/x-python",
   "name": "python",
   "nbconvert_exporter": "python",
   "pygments_lexer": "ipython3",
   "version": "3.10.8"
  },
  "widgets": {
   "application/vnd.jupyter.widget-state+json": {
    "state": {},
    "version_major": 2,
    "version_minor": 0
   }
  }
 },
 "nbformat": 4,
 "nbformat_minor": 5
}
